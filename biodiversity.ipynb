{
 "cells": [
  {
   "cell_type": "markdown",
   "metadata": {},
   "source": [
    "# Introduction\n",
    "\n",
    "The goal of this project is to analyze biodiversity data from U.S. National Parks Service, focusing on the various species observed across different national park location.\n",
    "\n",
    "This project involves defining the scope, cleaning, analyzing, visulaizing, and interpreting the data to uncover insights about species conservation and distribution.\n",
    "\n",
    "Through this analysis, the project aims to answer key questions such as:\n",
    "\n",
    "- What is the distribution of conservation statuses among species?\n",
    "- Are certain types of species (e.g., mammals, birds, plants) more likely to be endangered?\n",
    "- Are the differeces between species categories and their conservation statuses statistically significant?\n",
    "- Which species are most prevalent, and how are they distributed across the parks?\n",
    "\n"
   ]
  }
 ],
 "metadata": {
  "kernelspec": {
   "display_name": "Python [conda env:base] *",
   "language": "python",
   "name": "conda-base-py"
  },
  "language_info": {
   "codemirror_mode": {
    "name": "ipython",
    "version": 3
   },
   "file_extension": ".py",
   "mimetype": "text/x-python",
   "name": "python",
   "nbconvert_exporter": "python",
   "pygments_lexer": "ipython3",
   "version": "3.12.7"
  }
 },
 "nbformat": 4,
 "nbformat_minor": 4
}
