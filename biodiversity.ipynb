{
 "cells": [
  {
   "cell_type": "markdown",
   "metadata": {},
   "source": [
    "# Introduction\n",
    "\n",
    "The goal of this project is to analyze biodiversity data from U.S. National Parks Service, focusing on the various species observed across different national park location.\n",
    "\n",
    "This project involves defining the scope, cleaning, analyzing, visulaizing, and interpreting the data to uncover insights about species conservation and distribution.\n",
    "\n",
    "Through this analysis, the project aims to answer key questions such as:\n",
    "\n",
    "- What is the distribution of conservation statuses among species?\n",
    "- Are certain types of species (e.g., mammals, birds, plants) more likely to be endangered?\n",
    "- Are the differeces between species categories and their conservation statuses statistically significant?\n",
    "- Which species are most prevalent, and how are they distributed across the parks?\n",
    "\n",
    "**Data Sources:**\n",
    "\n",
    "The datasets `Observations.csv` and `Species_info.csv` were provided by [Codecademy.com](https://www.codecademy.com).\n",
    "\n",
    "> *Note: The data used in this project is inspired by real biodiversity datasets, but is primarily fictional and intended for educational purposes.*\n"
   ]
  },
  {
   "cell_type": "markdown",
   "metadata": {},
   "source": [
    "## Scoping\n",
    "\n",
    "It's beneficial to create a project scope whenever a new project is being started. Four sections were created below to help the project's process and progress. The first section is the projects goals, this section will define the high-level objectives and set the intentions for this project. The next section is the data, luckily in this project, data is already provided but still needs to be checked if project goals can be met with the available data. Thirdly, the analysis will have to be thought through, which include the methods and questions that are aligned with the project goals. Lastly, evaluation will help us build conclusions and findings from our analysis.\n",
    "\n",
    "### Project Goals\n",
    "\n",
    "In this project the perspective will be through a biodiversity analyst for the National Parks Service. The National Park Service wants to ensure the survival of at-risk species, to maintain the level of biodiversity within their parks. Therefore, the main objectives as an analyst will be understanding characteristics about the species and their conservations status, and those species and their relationship to the national parks. Some questions that are posed:\n",
    "\n",
    "- What is the distribution of conservation status for species?\n",
    "- Are certain types of species more likely to be endangered?\n",
    "- Are the differences between species and their conservation status significant?\n",
    "- Which animal is most prevalent and what is their distribution amongst parks?\n",
    "\n",
    "### Data\n",
    "\n",
    "This project has two data sets that came with the package. the first `csv` file has information about each species and another has observations of species with park locations. This data will be used to analyze the goals of the project.\n",
    "\n",
    "### Analysis \n",
    "\n",
    "In this section, descriptive statistics and data visualization techni`ues will be employed to understand the data better. Statistical inference will also be used to test if the observed values are statistically significant.\n"
   ]
  }
 ],
 "metadata": {
  "kernelspec": {
   "display_name": "Python [conda env:base] *",
   "language": "python",
   "name": "conda-base-py"
  },
  "language_info": {
   "codemirror_mode": {
    "name": "ipython",
    "version": 3
   },
   "file_extension": ".py",
   "mimetype": "text/x-python",
   "name": "python",
   "nbconvert_exporter": "python",
   "pygments_lexer": "ipython3",
   "version": "3.12.7"
  }
 },
 "nbformat": 4,
 "nbformat_minor": 4
}
